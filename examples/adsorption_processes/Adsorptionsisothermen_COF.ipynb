{
 "cells": [
  {
   "cell_type": "code",
   "execution_count": 1,
   "metadata": {},
   "outputs": [],
   "source": [
    "from feos_pcsaft.dft import PcSaftFunctional, Pore3D, State, DFTSolver, FMTVersion, Pore1D, ExternalPotential, Geometry\n",
    "from feos_pcsaft import PcSaftParameters\n",
    "from feos_pcsaft.si import *\n",
    "from scipy.optimize import minimize, Bounds\n",
    "import os\n",
    "import json\n",
    "import pandas as pd\n",
    "import numpy as np\n",
    "import matplotlib.pyplot as plt\n",
    "#import yt\n",
    "#yt.toggle_interactivity()\n",
    "from scipy.spatial import Voronoi, distance"
   ]
  },
  {
   "cell_type": "code",
   "execution_count": null,
   "metadata": {},
   "outputs": [
    {
     "ename": "RuntimeError",
     "evalue": "No such file or directory (os error 2)",
     "output_type": "error",
     "traceback": [
      "\u001b[0;31m---------------------------------------------------------------------------\u001b[0m",
      "\u001b[0;31mRuntimeError\u001b[0m                              Traceback (most recent call last)",
      "Input \u001b[0;32mIn [2]\u001b[0m, in \u001b[0;36m<module>\u001b[0;34m\u001b[0m\n\u001b[0;32m----> 1\u001b[0m params \u001b[38;5;241m=\u001b[39m \u001b[43mPcSaftParameters\u001b[49m\u001b[38;5;241;43m.\u001b[39;49m\u001b[43mfrom_json\u001b[49m\u001b[43m(\u001b[49m\u001b[43m[\u001b[49m\u001b[38;5;124;43m'\u001b[39;49m\u001b[38;5;124;43mcarbon-dioxide\u001b[39;49m\u001b[38;5;124;43m'\u001b[39;49m\u001b[43m]\u001b[49m\u001b[43m,\u001b[49m\u001b[38;5;124;43m'\u001b[39;49m\u001b[38;5;124;43m../feos-pcsaft/parameters/20191105_pure_parameters.json\u001b[39;49m\u001b[38;5;124;43m'\u001b[39;49m\u001b[43m)\u001b[49m\n\u001b[1;32m      2\u001b[0m func \u001b[38;5;241m=\u001b[39m PcSaftFunctional\u001b[38;5;241m.\u001b[39mnew_full(params,FMTVersion\u001b[38;5;241m.\u001b[39mAntiSymWhiteBear)\n",
      "\u001b[0;31mRuntimeError\u001b[0m: No such file or directory (os error 2)"
     ]
    }
   ],
   "source": [
    "params = PcSaftParameters.from_json(['carbon-dioxide'],'20191105_pure_parameters.json')\n",
    "func = PcSaftFunctional.new_full(params,FMTVersion.AntiSymWhiteBear)"
   ]
  },
  {
   "cell_type": "code",
   "execution_count": 4,
   "metadata": {},
   "outputs": [],
   "source": [
    "class SolidStructure:\n",
    "\n",
    "    N_atom = 0\n",
    "    dimensions = {\n",
    "        \"Lx\": 0.0,\n",
    "        \"Ly\": 0.0,\n",
    "        \"Lz\": 0.0\n",
    "    }\n",
    "    forcefield = ''\n",
    "    total_mass = 0.0\n",
    "\n",
    "    def __init__(self,structure):\n",
    "        \n",
    "        self.name = structure\n",
    "\n",
    "        database = os.path.join(os.getcwd(),'structure_parameters','solid_database.json')\n",
    "    \n",
    "        with open(database) as f:\n",
    "            data = json.load(f)\n",
    "\n",
    "            for i in range(len(data)):\n",
    "                if data[i]['Name']==self.name:\n",
    "                    self.N_atom = data[i]['N_atom']\n",
    "                    self.dimensions = data[i]['Dimensions']\n",
    "                    self.forcefield = data[i]['Forcefield']\n",
    "                         \n",
    "    def read_structure(self):\n",
    "        struct_param = os.path.join(os.getcwd(),'structure_parameters')\n",
    "        structure_df = pd.read_csv(os.path.join(struct_param,'{}.dat'.format(self.name)),names=['x','y','z','Type','mask'], delim_whitespace=True)\n",
    "        \n",
    "        filename = os.path.join(struct_param,'{}.dat'.format(self.forcefield))\n",
    "        forcefield_df = pd.read_csv(filename,names=['Type','sigma','epsilon','mass'], delim_whitespace=True)\n",
    "\n",
    "        coordinates = np.array([structure_df[\"x\"], structure_df[\"y\"], structure_df[\"z\"]])\n",
    "        \n",
    "        sigma_ss = np.zeros(len(structure_df[\"x\"]))\n",
    "        epsilon_k_ss = np.zeros_like(sigma_ss)\n",
    "        \n",
    "        for i in range(len(sigma_ss)):\n",
    "            sigma_ss[i] = forcefield_df.sigma[forcefield_df.Type==structure_df[\"Type\"][i]]\n",
    "            epsilon_k_ss[i] = forcefield_df.epsilon[forcefield_df.Type==structure_df[\"Type\"][i]]\n",
    "        \n",
    "        self.total_mass = np.sum(np.array([forcefield_df.mass[forcefield_df.Type==t]for t in structure_df.Type])) * 1.66054e-27\n",
    "\n",
    "        return coordinates, sigma_ss, epsilon_k_ss, np.array(structure_df['mask'])"
   ]
  },
  {
   "cell_type": "code",
   "execution_count": 5,
   "metadata": {},
   "outputs": [
    {
     "ename": "FileNotFoundError",
     "evalue": "[Errno 2] No such file or directory: '/usr/ITT/bursik/promotion/entropy_scaling_AS/entropyScaling/feos-pcsaft/examples/adsorption_processes/structure_parameters/solid_database.json'",
     "output_type": "error",
     "traceback": [
      "\u001b[0;31m---------------------------------------------------------------------------\u001b[0m",
      "\u001b[0;31mFileNotFoundError\u001b[0m                         Traceback (most recent call last)",
      "Input \u001b[0;32mIn [5]\u001b[0m, in \u001b[0;36m<module>\u001b[0;34m\u001b[0m\n\u001b[0;32m----> 1\u001b[0m structure \u001b[38;5;241m=\u001b[39m \u001b[43mSolidStructure\u001b[49m\u001b[43m(\u001b[49m\u001b[38;5;124;43m'\u001b[39;49m\u001b[38;5;124;43mTpPA\u001b[39;49m\u001b[38;5;124;43m'\u001b[39;49m\u001b[43m)\u001b[49m\n\u001b[1;32m      2\u001b[0m coordinates, sigma, epsilon, mask \u001b[38;5;241m=\u001b[39m structure\u001b[38;5;241m.\u001b[39mread_structure()\n\u001b[1;32m      3\u001b[0m system_size \u001b[38;5;241m=\u001b[39m [structure\u001b[38;5;241m.\u001b[39mdimensions[\u001b[38;5;124m\"\u001b[39m\u001b[38;5;124mLx\u001b[39m\u001b[38;5;124m\"\u001b[39m] \u001b[38;5;241m*\u001b[39m ANGSTROM, structure\u001b[38;5;241m.\u001b[39mdimensions[\u001b[38;5;124m\"\u001b[39m\u001b[38;5;124mLy\u001b[39m\u001b[38;5;124m\"\u001b[39m] \u001b[38;5;241m*\u001b[39m ANGSTROM, structure\u001b[38;5;241m.\u001b[39mdimensions[\u001b[38;5;124m\"\u001b[39m\u001b[38;5;124mLz\u001b[39m\u001b[38;5;124m\"\u001b[39m] \u001b[38;5;241m*\u001b[39m ANGSTROM]\n",
      "Input \u001b[0;32mIn [4]\u001b[0m, in \u001b[0;36mSolidStructure.__init__\u001b[0;34m(self, structure)\u001b[0m\n\u001b[1;32m     14\u001b[0m \u001b[38;5;28mself\u001b[39m\u001b[38;5;241m.\u001b[39mname \u001b[38;5;241m=\u001b[39m structure\n\u001b[1;32m     16\u001b[0m database \u001b[38;5;241m=\u001b[39m os\u001b[38;5;241m.\u001b[39mpath\u001b[38;5;241m.\u001b[39mjoin(os\u001b[38;5;241m.\u001b[39mgetcwd(),\u001b[38;5;124m'\u001b[39m\u001b[38;5;124mstructure_parameters\u001b[39m\u001b[38;5;124m'\u001b[39m,\u001b[38;5;124m'\u001b[39m\u001b[38;5;124msolid_database.json\u001b[39m\u001b[38;5;124m'\u001b[39m)\n\u001b[0;32m---> 18\u001b[0m \u001b[38;5;28;01mwith\u001b[39;00m \u001b[38;5;28;43mopen\u001b[39;49m\u001b[43m(\u001b[49m\u001b[43mdatabase\u001b[49m\u001b[43m)\u001b[49m \u001b[38;5;28;01mas\u001b[39;00m f:\n\u001b[1;32m     19\u001b[0m     data \u001b[38;5;241m=\u001b[39m json\u001b[38;5;241m.\u001b[39mload(f)\n\u001b[1;32m     21\u001b[0m     \u001b[38;5;28;01mfor\u001b[39;00m i \u001b[38;5;129;01min\u001b[39;00m \u001b[38;5;28mrange\u001b[39m(\u001b[38;5;28mlen\u001b[39m(data)):\n",
      "\u001b[0;31mFileNotFoundError\u001b[0m: [Errno 2] No such file or directory: '/usr/ITT/bursik/promotion/entropy_scaling_AS/entropyScaling/feos-pcsaft/examples/adsorption_processes/structure_parameters/solid_database.json'"
     ]
    }
   ],
   "source": [
    "structure = SolidStructure('TpPA')\n",
    "coordinates, sigma, epsilon, mask = structure.read_structure()\n",
    "system_size = [structure.dimensions[\"Lx\"] * ANGSTROM, structure.dimensions[\"Ly\"] * ANGSTROM, structure.dimensions[\"Lz\"] * ANGSTROM]"
   ]
  },
  {
   "cell_type": "code",
   "execution_count": 5,
   "metadata": {},
   "outputs": [
    {
     "name": "stdout",
     "output_type": "stream",
     "text": [
      "9.160155877338036 245\n",
      "pore center:\n",
      "[22.555999138136762, 1.3947658574764432e-06, 20.400000000000002]\n",
      "CPU times: user 195 ms, sys: 535 µs, total: 196 ms\n",
      "Wall time: 194 ms\n"
     ]
    }
   ],
   "source": [
    "%%time\n",
    "vor = Voronoi(coordinates.T)\n",
    "\n",
    "minimum_distance = 0.0\n",
    "dist = np.zeros(int(vor.vertices.size / 2))\n",
    "for i,point in enumerate(vor.vertices):\n",
    "    if(point[0] >= 0.0 and point[0] <= structure.dimensions[\"Lx\"] and point[1] >= 0.0 and point[1] <= structure.dimensions[\"Ly\"]):\n",
    "        dist[i] = np.min(distance.cdist(np.array([point]),coordinates.T))\n",
    "pore_radius = np.max(dist)\n",
    "print(pore_radius,np.argmax(dist))\n",
    "pore_center = [vor.vertices[np.argmax(dist)][0], vor.vertices[np.argmax(dist)][1], vor.vertices[np.argmax(dist)][2]]\n",
    "print('pore center:')\n",
    "print(pore_center)"
   ]
  },
  {
   "cell_type": "code",
   "execution_count": null,
   "metadata": {
    "tags": []
   },
   "outputs": [
    {
     "name": "stderr",
     "output_type": "stream",
     "text": [
      "[/usr/ITT/bursik/promotion/entropy_scaling_AS/entropyScaling/feos-dft/src/adsorption/fea_potential.rs:101] weights_sum = 192.26547039969495\n",
      "[/usr/ITT/bursik/promotion/entropy_scaling_AS/entropyScaling/feos-dft/src/adsorption/fea_potential.rs:138] temperature = 300.0\n"
     ]
    }
   ],
   "source": [
    "#pore = Pore3D(func, system_size, [64, 64, 64], coordinates * ANGSTROM, sigma, epsilon)\n",
    "potential = ExternalPotential.FreeEnergyAveraged(coordinates * ANGSTROM, sigma, epsilon, pore_center, system_size, [51, 51])\n",
    "#pore = Pore1D(func, Geometry.Spherical, 5.9595 * ANGSTROM, potential, 128)\n",
    "pore = Pore1D(func, Geometry.Cylindrical, 9.160155877 * ANGSTROM, potential, 128)\n",
    "                                          #pore size?\n",
    "pressures1 = np.linspace(0.1,1.5,3)\n",
    "pressures2 = np.linspace(1.7,5.0,3)\n",
    "# pressures = np.concatenate((pressures1,pressures2), axis=0, out=None)\n",
    "#pressures3 =np.array([5])\n",
    "pressures4 = np.linspace(8.0,50.0,3)\n",
    "pressures = np.concatenate((pressures1,pressures2,pressures4), axis=0, out=None)\n",
    "isotherm_save = []\n",
    "for p in pressures:\n",
    "    s = State(func, temperature = 300.0 * KELVIN, pressure = p * BAR)\n",
    "    PoreProfile = pore.initialize(s)\n",
    "\n",
    "    solver = DFTSolver(output=True).picard_iteration(tol=5.0e-5,beta=0.01).picard_iteration(tol=1.0e-7,beta=0.1).anderson_mixing(tol=1.0e-8,mmax=10)\n",
    "    # Lösen des Dichteprofils\n",
    "    PoreProfile.solve(solver)\n",
    "\n",
    "    N_ads = PoreProfile.moles * NAV\n",
    "    isotherm_save.append(N_ads)"
   ]
  },
  {
   "cell_type": "code",
   "execution_count": null,
   "metadata": {},
   "outputs": [],
   "source": [
    "isotherm_save_unit = [x[0] * 9.16 *ANGSTROM for x in isotherm_save]\n",
    "isotherm_save_unit2 = [x[0] *METER for x in isotherm_save]\n",
    "\n",
    "isotherm_save_unit\n"
   ]
  },
  {
   "cell_type": "code",
   "execution_count": null,
   "metadata": {},
   "outputs": [],
   "source": [
    "pressures"
   ]
  },
  {
   "cell_type": "code",
   "execution_count": null,
   "metadata": {},
   "outputs": [],
   "source": [
    "isotherm_3D = pd.read_csv('./Adsorptionsisothermen an 13X/anTpPA_CO2_300K.dat', names=['Druck','N_ads'], delim_whitespace=True)\n",
    "ax = isotherm_3D.plot( x='Druck', y='N_ads', label = '3D')\n",
    "ax.plot(pressures, isotherm_save_unit, label = '1D')\n",
    "#ax.plot(pressures, isotherm_save_unit2, label = '1D', color = 'r')\n",
    "plt.show()\n",
    "#isotherm_3D"
   ]
  },
  {
   "cell_type": "code",
   "execution_count": null,
   "metadata": {},
   "outputs": [],
   "source": []
  }
 ],
 "metadata": {
  "kernelspec": {
   "display_name": "entropy_scaling",
   "language": "python",
   "name": "entropy_scaling"
  },
  "language_info": {
   "codemirror_mode": {
    "name": "ipython",
    "version": 3
   },
   "file_extension": ".py",
   "mimetype": "text/x-python",
   "name": "python",
   "nbconvert_exporter": "python",
   "pygments_lexer": "ipython3",
   "version": "3.8.8"
  }
 },
 "nbformat": 4,
 "nbformat_minor": 4
}
