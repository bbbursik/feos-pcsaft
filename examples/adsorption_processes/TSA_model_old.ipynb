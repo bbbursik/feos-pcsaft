{
 "cells": [
  {
   "cell_type": "code",
   "execution_count": 1,
   "id": "aa35251d-716c-4a30-8b7a-e58fa8f864df",
   "metadata": {},
   "outputs": [],
   "source": [
    "import numpy as np\n",
    "\n",
    "import scipy.optimize\n",
    "import sys\n",
    "import matplotlib.pyplot as plt\n",
    "\n",
    "#show falues from singe k-steps?\n",
    "verbose = False\n"
   ]
  },
  {
   "cell_type": "code",
   "execution_count": 2,
   "id": "09e43b35-a569-4c70-bbba-43ba7b16af95",
   "metadata": {},
   "outputs": [],
   "source": [
    "class Constants(object):\n",
    "    def __init__(self):\n",
    "        # Overall process variables:\n",
    "        # A : Strongly adsorbing component\n",
    "        # Binary mixture\n",
    "        #Temperatures\n",
    "        self.T_H = 421.34 # [K] # Desorption Temperature\n",
    "        self.T_C = 303.02 # [K] # Adsorption Temperature\n",
    "        self.n_steps = 50\n",
    "        self.delta_T_k = (self.T_H-self.T_C) / self.n_steps\n",
    "        \n",
    "        # Feed composition \n",
    "        self.y_A_feed = 0.12 # molefraction\n",
    "        self.y_B_feed = 1 - self.y_A_feed\n",
    "        # pressures:\n",
    "        self.p_tot = 1.0 #bar #isobaric conditions\n",
    "        self.p_tot_Pa = self.p_tot * 10**5 #Pascal\n",
    "        self.p_A_feed = self.y_A_feed * self.p_tot # Partial pressure of A in the feed # [bar]\n",
    "        self.p_B_feed = self.y_B_feed * self.p_tot\n",
    "        # Mass of adsorbent in column:\n",
    "        self.m_ads = 1 # [kg]\n",
    "        # Densities:\n",
    "        self.rho_bed_X13 = 708 # Kg / m^3 # Bed density\n",
    "        self.rho_particle_X13 = 1085 # Kg / m^3 # Density of the pure zeolite\n",
    "        self.porosity = 1 - (self.rho_bed_X13 / self.rho_particle_X13)\n",
    "        # volume of the column:\n",
    "        self.volume = self.m_ads / self.rho_bed_X13\n",
    "        \n",
    "#        l_col = 1.2 #meter\n",
    "#        internal_d_col = 3 * 10**(-2) #meter\n",
    "#        v_col = l_col * np.pi * (internal_d_col/2)**2\n",
    "#        v_particle = 1/self.rho_particle_X13\n",
    "#        v_bed = 1/self.rho_bed_X13\n",
    "        \n",
    "        self.c_p_ads = 920 # J /kg / K # specific heat capacity for zeolite 13X\n",
    "        self.R = 8.314          # [J/mol/K]\n",
    "        \n",
    "consts = Constants()"
   ]
  },
  {
   "cell_type": "markdown",
   "id": "b9476ed9-cf7d-42bf-9c41-96fde8a17f28",
   "metadata": {},
   "source": [
    "## Isosteric heats of adsorption\n",
    "### $\\Delta H_{is,A} = \\frac{RT^2}{P_A} \\frac{\\big(\\frac{\\partial n_A}{\\partial P_B}\\big)   \\big(\\frac{\\partial n_B}{\\partial T}\\big)   - \\big(\\frac{\\partial n_A}{\\partial T}\\big)   \\big(\\frac{\\partial n_B}{\\partial P_B}\\big)}  \n",
    "{\\big(\\frac{\\partial n_A}{\\partial P_A}\\big)   \\big(\\frac{\\partial n_B}{\\partial P_B}\\big)   - \\big(\\frac{\\partial n_A}{\\partial P_B}\\big)   \\big(\\frac{\\partial n_B}{\\partial P_A}\\big)}$\n",
    "### $\\Delta H_{is,B} = \\frac{RT^2}{P_B} \\frac{\\big(\\frac{\\partial n_B}{\\partial P_A}\\big)   \\big(\\frac{\\partial n_A}{\\partial T}\\big)   - \\big(\\frac{\\partial n_B}{\\partial T}\\big)   \\big(\\frac{\\partial n_B}{\\partial P_A}\\big)}  \n",
    "{\\big(\\frac{\\partial n_B}{\\partial P_B}\\big)   \\big(\\frac{\\partial n_A}{\\partial P_A}\\big)   - \\big(\\frac{\\partial n_B}{\\partial P_A}\\big)   \\big(\\frac{\\partial n_A}{\\partial P_B}\\big)}$\n",
    "\n",
    "Compare S2 <br />\n",
    "solve with central difference approximation"
   ]
  },
  {
   "cell_type": "code",
   "execution_count": 3,
   "id": "c9fa7329-1cb0-4cbf-bdfa-fa4f80dac5fa",
   "metadata": {},
   "outputs": [],
   "source": [
    "# TODO\n",
    "def isosteric_heats(*args):\n",
    "    T_k, y_A_kmo, y_A_k, N_A_ads_kmo, N_B_ads_kmo, N_A_ads_k, N_B_ads_k = args[0]\n",
    "    y_B_k   = 1 - y_A_k\n",
    "    y_B_kmo = 1 - y_A_kmo\n",
    "    p_A_k   = consts.p_tot_Pa * y_A_k\n",
    "    p_A_kmo = consts.p_tot_Pa * y_A_kmo\n",
    "    p_B_k   = consts.p_tot_Pa * y_B_k\n",
    "    p_B_kmo = consts.p_tot_Pa * y_B_kmo\n",
    "    \n",
    "    delta_T   = (T_k - T_kmo)\n",
    "    delta_p_A = (p_A_k - p_A_kmo)\n",
    "    delta_p_B = (p_B_k - p_B_kmo)\n",
    "    delta_n_A = (N_A_ads_k - N_A_ads_kmo)\n",
    "    delta_n_B = (N_B_ads_k - N_B_ads_kmo)\n",
    "\n",
    "    delta_h_A = ((consts.R * T_k**2) / (p_A_k)) * ((delta_n_A / delta_p_B) * (delta_n_B / delta_T) - (delta_n_A / delta_T) * (delta_n_B / delta_p_B)) / ((delta_n_A / delta_p_A) * (delta_n_B / delta_p_B) - (delta_n_A / delta_p_B) * (delta_n_B / delta_p_A)) \n",
    "\n",
    "    delta_h_B = ((consts.R * T_k**2) / (p_B_k)) * ((delta_n_B / delta_p_A) * (delta_n_A / delta_T) - (delta_n_B / delta_T) * (delta_n_A / delta_p_A)) / ((delta_n_B / delta_p_B) * (delta_n_A / delta_p_A) - (delta_n_B / delta_p_A) * (delta_n_A / delta_p_B)) \n",
    "    \n",
    "    return delta_h_A, delta_h_B\n"
   ]
  },
  {
   "cell_type": "code",
   "execution_count": 4,
   "id": "d5c4edb4-24bf-4f6d-93e0-7a6b2ab3925f",
   "metadata": {},
   "outputs": [],
   "source": [
    "# SIPS isotherm for Zeolite X13 see SI\n",
    "class Iso_mod(object):\n",
    "    def __init__(self):\n",
    "        # Parameters\n",
    "        # components:\n",
    "        # 1 A = CO2\n",
    "        # 2 B = N2\n",
    "        # adsorbent: ZEOLITE 13X --> Type FAU zeolite\n",
    "        self.T_ref = 298        # [K]\n",
    "        self.T_ref_A = self.T_ref    # [K]\n",
    "        self.T_ref_B = self.T_ref    # [K]\n",
    "        self.a_A = 0.72378      # [-]\n",
    "        self.a_B = 0.0          # [-]\n",
    "        self.c_ref_A = 0.42456  # [-]\n",
    "        self.c_ref_B = 0.98624  # [-]\n",
    "        self.Q_b_A = 28389      # [J / mol ]\n",
    "        self.Q_b_B = 18474      # [J / mol ]\n",
    "        self.b0_A = 1.129e-4    # [bar]\n",
    "        self.b0_B = 5.8470e-5   # [bar]\n",
    "        self.x_A = -0.61684     # [-]\n",
    "        self.x_B = 0.0          # [-]\n",
    "        self.n_inf_ref_A = 7.268# [mol/kg]\n",
    "        self.n_inf_ref_B = 4.051# [mol/kg]\n",
    "        # Temperature dependent parameters calculate via update_T_dep_params(self, T)\n",
    "        self.n_ads_inf_A = 0\n",
    "        self.n_ads_inf_B = 0\n",
    "        self.T = 0\n",
    "        self.b_A = 0\n",
    "        self.b_B = 0\n",
    "        self.c_A = 0 \n",
    "        self.c_B = 0\n",
    "        \n",
    "    def update_T_dep_params(self, T):\n",
    "        self.T = T\n",
    "        # Temperature dependence of saturation capacity\n",
    "        self.n_ads_inf_A = self.n_inf_ref_A * np.exp(self.x_A * ((self.T/self.T_ref_A)-1))\n",
    "        self.n_ads_inf_B = self.n_inf_ref_B * np.exp(self.x_B * ((self.T/self.T_ref_B)-1))\n",
    "        # Temperature dependence of affinity parameter\n",
    "        self.b_A = self.b0_A * np.exp(self.Q_b_A/(consts.R*T))\n",
    "        self.b_B = self.b0_B * np.exp(self.Q_b_B/(consts.R*T))\n",
    "        # Temperature dependence of heterogeneity parameter\n",
    "        self.c_A = self.c_ref_A + self.a_A*((T/self.T_ref)-1)\n",
    "        self.c_B = self.c_ref_B + self.a_B*((T/self.T_ref)-1)\n",
    "    \n",
    "    def print_T_dep_params(self):\n",
    "        print('n_ads_inf_A:{:6.4f}'.format(self.n_ads_inf_A))\n",
    "        print('b_A:{:6.4f}'.format(self.b_A))\n",
    "        print('c_A:{:6.4f}'.format(self.c_A))\n",
    "        print('n_ads_inf_B:{:6.4f}'.format(self.n_ads_inf_B))\n",
    "        print('b_B:{:6.4f}'.format(self.b_B))\n",
    "        print('c_B:{:6.4f}'.format(self.c_B))\n",
    "        \n",
    "iso = Iso_mod()"
   ]
  },
  {
   "cell_type": "code",
   "execution_count": 5,
   "id": "83b154b2-3864-40f4-86bc-dc8eb8e6196a",
   "metadata": {},
   "outputs": [],
   "source": [
    "def loading_for_T(y_A):\n",
    "    # A = CO2; B = N2\n",
    "    # extendet Sips isotherm modell\n",
    "    # T_dependend parameters have to be updated\n",
    "    y_B = 1 - y_A\n",
    "    n_ads_A = (iso.n_ads_inf_A * (iso.b_A * consts.p_tot * y_A)**iso.c_A) / (1 + (iso.b_A * consts.p_tot * y_A)**iso.c_A + (iso.b_B * consts.p_tot * y_B)**iso.c_B)\n",
    "    n_ads_B = (iso.n_ads_inf_B * (iso.b_B * consts.p_tot * y_B)**iso.c_B) / (1 + (iso.b_A * consts.p_tot * y_A)**iso.c_A + (iso.b_B * consts.p_tot * y_B)**iso.c_B)\n",
    "    return n_ads_A, n_ads_B # [mol/kg]\n",
    "\n",
    "# Stoffmenge im Gas im Adsorber\n",
    "def N_gas(y, T):\n",
    "    ngas = ((consts.porosity * y * consts.p_tot_Pa * consts.volume) / (consts.R * T))\n",
    "    return ngas\n",
    "\n",
    "# Equations heating step:\n",
    "def heating_step(estimates, *args):\n",
    "    N_A_ads_kmo, N_B_ads_kmo, N_gas_A_kmo, N_gas_B_kmo, T_k = args[0]\n",
    "    (N_out, y_A_k) = estimates # estimates for y_A_k and N_out_k\n",
    "    y_B_k = 1 - y_A_k\n",
    "    eqn_1 = N_A_ads_kmo + N_gas_A_kmo - y_A_k * N_out - loading_for_T(y_A_k)[0] - N_gas(y_A_k, T_k)\n",
    "    eqn_2 = N_B_ads_kmo + N_gas_B_kmo - y_B_k * N_out - loading_for_T(y_A_k)[1] - N_gas(y_B_k, T_k)\n",
    "    return [eqn_1, eqn_2]"
   ]
  },
  {
   "cell_type": "code",
   "execution_count": 12,
   "id": "6ad80c79-d594-4d23-8f1f-e3ffc285af5a",
   "metadata": {},
   "outputs": [],
   "source": [
    "y_As = np.linspace(0,1,50)\n",
    "nA_ads = []\n",
    "nB_ads = []\n",
    "iso.update_T_dep_params(298)\n",
    "\n",
    "for y_A in y_As:\n",
    "    nA_ads_i, nB_ads_i = loading_for_T(y_A)\n",
    "    # print(nA_ads_i)\n",
    "    nA_ads.append(nA_ads_i)\n",
    "    nB_ads.append(nB_ads_i)    "
   ]
  },
  {
   "cell_type": "code",
   "execution_count": 22,
   "id": "f3b4dd65-50d3-4667-a885-854ad81e78c1",
   "metadata": {},
   "outputs": [
    {
     "data": {
      "text/plain": [
       "Text(0.5, 0, '$y_A$ / $-$')"
      ]
     },
     "execution_count": 22,
     "metadata": {},
     "output_type": "execute_result"
    },
    {
     "data": {
      "image/png": "[encoded data removed]",
      "text/plain": [
       "<Figure size 720x504 with 1 Axes>"
      ]
     },
     "metadata": {
      "needs_background": "light"
     },
     "output_type": "display_data"
    }
   ],
   "source": [
    "fig = plt.figure(figsize=[10,7])\n",
    "fontsize=25\n",
    "\n",
    "plt.plot(y_As, nA_ads)\n",
    "plt.plot((1-y_As), nB_ads)\n",
    "plt.ylabel(fr'$n_{{ads}}$ / $mol/kg$', fontsize=fontsize)\n",
    "plt.xlabel(fr'$y_A$ / $-$', fontsize=fontsize)"
   ]
  },
  {
   "cell_type": "code",
   "execution_count": 6,
   "id": "7f354e90-f38d-4c90-a028-ea66542b490c",
   "metadata": {},
   "outputs": [],
   "source": [
    "# Heating step \n",
    "#initial conditions\n",
    "\n",
    "y_A_kmo = consts.y_A_feed\n",
    "y_B_kmo = 1 - y_A_kmo\n",
    "T_k = consts.T_C\n",
    "T_kmo = consts.T_C\n",
    "iso.update_T_dep_params(consts.T_C)\n",
    "N_A_ads_kmo, N_B_ads_kmo = consts.m_ads * loading_for_T(consts.y_A_feed)\n",
    "N_gas_A_kmo, N_gas_B_kmo = N_gas(y_A_kmo, T_k), N_gas(y_B_kmo, T_k)\n",
    "N_out = 0.0332 # estimate\n",
    "# lists to store outputs\n",
    "y_As_heating, temperatures_heating, N_outs_heating = [], [], []\n",
    "y_As_heating.append(consts.y_A_feed)\n",
    "temperatures_heating.append(consts.T_C)"
   ]
  },
  {
   "cell_type": "code",
   "execution_count": 7,
   "id": "fbafd1c7-da40-445d-ab53-14ffcb6c4ce3",
   "metadata": {},
   "outputs": [],
   "source": [
    "# do the single steps\n",
    "for i in range(0, consts.n_steps):\n",
    "    T_k += consts.delta_T_k\n",
    "    iso.update_T_dep_params(T_k)\n",
    "    #iso.print_T_dep_params()\n",
    "    inp_vars = [N_A_ads_kmo, N_B_ads_kmo, N_gas_A_kmo, N_gas_B_kmo, T_k]\n",
    "    estimates = (N_out, y_A_kmo)\n",
    "    \n",
    "    # Solver\n",
    "    # ‘hybr’ , ‘lm’, ‘broyden1’, ‘broyden2’, ‘anderson’, ‘linearmixing’, ‘diagbroyden’, ‘excitingmixing’, ‘krylov’, ‘df-sane’\n",
    "    x = scipy.optimize.root(heating_step, x0 = estimates, args = inp_vars, method = 'hybr')\n",
    "    N_out, y_A_k = x['x']\n",
    "    y_B_k = 1 - y_A_k\n",
    "    if verbose: print('Step: {:>3} y_A_kmo: {:4.2f} y_A_k: {:4.2f} N_out_k:{:8.6f} T_K: {:4.1f}'.format(i+1, y_A_kmo, y_A_k, N_out, T_k))\n",
    "    \n",
    "    # isosteric heat of adsorption\n",
    "    # ins_enthalpy = [T_k, y_A_kmo, y_A_k, N_A_ads_kmo, N_B_ads_kmo, *loading_for_T(y_A_k)]\n",
    "    # a, b = isosteric_heats(ins_enthalpy)\n",
    "    # print(a, b)\n",
    "\n",
    "    # read results and calculate new values\n",
    "    N_A_ads_kmo, N_B_ads_kmo = loading_for_T(y_A_k)\n",
    "    N_gas_A_kmo = N_gas(y_A_k , T_k)\n",
    "    N_gas_B_kmo = N_gas(y_B_k , T_k)    \n",
    "    T_kmo = T_k\n",
    "    y_A_kmo = y_A_k\n",
    "    \n",
    "    #store calculated values\n",
    "    N_outs_heating.append(N_out)\n",
    "    y_As_heating.append(y_A_k)\n",
    "    temperatures_heating.append(T_k)"
   ]
  },
  {
   "cell_type": "code",
   "execution_count": 8,
   "id": "9bace83c-a3ac-42f3-a81b-9410d20d7ce1",
   "metadata": {},
   "outputs": [
    {
     "name": "stdout",
     "output_type": "stream",
     "text": [
      "Product purity: 0.8954\n",
      "Working capacity: 1.6228\n",
      "Paper: WC = 1.63, y_co2 = 0.89\n"
     ]
    }
   ],
   "source": [
    "###### calculate product purity and working capacity        ### ADD Specific Energy\n",
    "N_out_A = 0\n",
    "for y_A, N_out in zip(y_As_heating, N_outs_heating):\n",
    "    N_out_A += (y_A * N_out)\n",
    "prod_purity = N_out_A / sum(N_outs_heating)\n",
    "working_capacity = N_out_A / consts.m_ads\n",
    "print('Product purity: {:6.4f}'.format(prod_purity))\n",
    "print('Working capacity: {:6.4f}'.format(working_capacity))\n",
    "print('Paper: WC = 1.63, y_co2 = 0.89')\n",
    "    \n",
    "# delta_N_A_ads_k = N_A_ads_k - N_A_ads_kmo\n",
    "# delta_N_A_ads_k = N_B_ads_k - N_B_ads_kmo\n",
    "# Q_ext_k = m_ads * c_p_ads * delta_T_k - delta_H_is_A_k * delta_N_A_ads_k - delta_H_is_B_k * delta_N_B_ads_k"
   ]
  },
  {
   "cell_type": "code",
   "execution_count": 9,
   "id": "030b43b4-0aab-4a55-bafa-2f97a2fc6ee3",
   "metadata": {},
   "outputs": [],
   "source": [
    "def cooling_step(estimates, *args):\n",
    "    N_A_ads_kmo, N_B_ads_kmo, N_gas_A_kmo, N_gas_B_kmo, T_k = args[0]\n",
    "    (N_in, y_A_k) = estimates # estimates for y_A_k and N_out_k\n",
    "    y_B_k = 1 - y_A_k\n",
    "    eqn_1 = N_A_ads_kmo + N_gas_A_kmo +      consts.y_A_feed  * N_in - loading_for_T(y_A_k)[0] - N_gas(y_A_k, T_k)\n",
    "    eqn_2 = N_B_ads_kmo + N_gas_B_kmo + (1 - consts.y_A_feed) * N_in - loading_for_T(y_A_k)[1] - N_gas(y_B_k, T_k)\n",
    "    return [eqn_1, eqn_2]"
   ]
  },
  {
   "cell_type": "code",
   "execution_count": 10,
   "id": "b817a19a-9dd2-4d1a-8a89-f76c1e7f6357",
   "metadata": {},
   "outputs": [
    {
     "name": "stderr",
     "output_type": "stream",
     "text": [
      "<ipython-input-5-3bfff342bb56>:6: RuntimeWarning: invalid value encountered in double_scalars\n",
      "  n_ads_A = (iso.n_ads_inf_A * (iso.b_A * consts.p_tot * y_A)**iso.c_A) / (1 + (iso.b_A * consts.p_tot * y_A)**iso.c_A + (iso.b_B * consts.p_tot * y_B)**iso.c_B)\n",
      "<ipython-input-5-3bfff342bb56>:7: RuntimeWarning: invalid value encountered in double_scalars\n",
      "  n_ads_B = (iso.n_ads_inf_B * (iso.b_B * consts.p_tot * y_B)**iso.c_B) / (1 + (iso.b_A * consts.p_tot * y_A)**iso.c_A + (iso.b_B * consts.p_tot * y_B)**iso.c_B)\n"
     ]
    }
   ],
   "source": [
    "# inital conditions cooling step\n",
    "N_in = N_outs_heating[-1]\n",
    "y_A_k = y_As_heating[-1]\n",
    "y_B_k = 1 - y_A_k\n",
    "T_k = consts.T_H\n",
    "iso.update_T_dep_params(T_k)\n",
    "N_A_ads_kmo, N_B_ads_kmo = loading_for_T(y_A_k)\n",
    "N_gas_A_kmo = N_gas(y_A_k, T_k)\n",
    "N_gas_B_kmo = N_gas(y_B_k, T_k)\n",
    "\n",
    "y_As_cooling, temperatures_cooling = [], []\n",
    "y_As_cooling.append(y_A_k)\n",
    "temperatures_cooling.append(T_k)\n",
    "\n",
    "# generate nice starting values with solver #error is generated here\n",
    "iso.update_T_dep_params(T_k)\n",
    "inp_vars = [N_A_ads_kmo, N_B_ads_kmo, N_gas_A_kmo, N_gas_B_kmo, T_k]\n",
    "estimates = (N_in, y_A_k)\n",
    "x = scipy.optimize.root(cooling_step, x0 = estimates, args = inp_vars, method = 'df-sane', options={'maxfev':5000})\n",
    "N_in, y_A_k = x['x']\n",
    "\n",
    "\n",
    "#cooling step\n",
    "for i in range(0, consts.n_steps):\n",
    "    T_k -= consts.delta_T_k\n",
    "    iso.update_T_dep_params(T_k)\n",
    "\n",
    "    inp_vars = [N_A_ads_kmo, N_B_ads_kmo, N_gas_A_kmo, N_gas_B_kmo, T_k]\n",
    "    estimates = (N_in, y_A_k)\n",
    "    \n",
    "    # Solver\n",
    "    # ‘hybr’ , ‘lm’, ‘broyden1’, ‘broyden2’, ‘anderson’, ‘linearmixing’, ‘diagbroyden’, ‘excitingmixing’, ‘krylov’, ‘df-sane’\n",
    "    #x = scipy.optimize.root(cooling_step, x0 = estimates, args = inp_vars, method = 'df-sane', options={'maxfev':1000})\n",
    "    x = scipy.optimize.root(cooling_step, x0 = estimates, args = inp_vars, method = 'krylov')\n",
    "\n",
    "    N_in, y_A_k = x['x']\n",
    "    y_B_k = 1 - y_A_k\n",
    "    if verbose: print('Step: {:>3} y_A_kmo: {:4.2f} y_A_k: {:4.2f} N_out_k:{:8.6f} T_K: {:4.1f}'.format(i+1, y_A_kmo, y_A_k, N_in, T_k))\n",
    "    \n",
    "    # read results and calculate new values\n",
    "    N_A_ads_kmo, N_B_ads_kmo = loading_for_T(y_A_k)\n",
    "    N_gas_A_kmo = N_gas(y_A_k , T_k)\n",
    "    N_gas_B_kmo = N_gas(y_B_k , T_k)\n",
    "    y_A_kmo = y_A_k\n",
    "    \n",
    "    y_As_cooling.append(y_A_k)\n",
    "    temperatures_cooling.append(T_k)"
   ]
  },
  {
   "cell_type": "code",
   "execution_count": 11,
   "id": "574ec70e-8d05-458e-9374-989abac8c04f",
   "metadata": {},
   "outputs": [
    {
     "name": "stdout",
     "output_type": "stream",
     "text": [
      "14.823894606233772 13.316395151846086\n"
     ]
    }
   ],
   "source": [
    "# implement the adsorption step here\n",
    "def adsorption_step(estimates, *args):\n",
    "    N_A_ads_cool, N_B_ads_cool, N_gas_A_cool, N_gas_B_cool, y_A_cool = args[0]\n",
    "    (N_feed, N_waste) = estimates # estimates for y_A_k and N_out_k\n",
    "    y_B_cool = 1 - y_A_cool\n",
    "            #A_cool_total                feed                              BT                                                               #waste\n",
    "    eqn_1 = N_A_ads_cool + N_gas_A_cool +      consts.y_A_feed  * N_feed - loading_for_T(consts.y_A_feed)[0] - N_gas(     consts.y_A_feed,  consts.T_C) - y_A_cool * N_waste\n",
    "    eqn_2 = N_B_ads_cool + N_gas_B_cool + (1 - consts.y_A_feed) * N_feed - loading_for_T(consts.y_A_feed)[1] - N_gas((1 - consts.y_A_feed), consts.T_C) - y_B_cool * N_waste          \n",
    "    return [eqn_1, eqn_2]\n",
    "\n",
    "y_A_cool = y_As_cooling[-1]\n",
    "N_A_ads_cool = N_A_ads_kmo\n",
    "N_B_ads_cool = N_B_ads_kmo\n",
    "N_gas_A_cool = N_gas_A_kmo\n",
    "N_gas_B_cool = N_gas_B_kmo\n",
    "\n",
    "N_feed, N_waste = 5, 5\n",
    "estimates = N_feed, N_waste\n",
    "inp_vars = [N_A_ads_cool, N_B_ads_cool, N_gas_A_cool, N_gas_B_cool, y_A_cool]\n",
    "x = scipy.optimize.root(adsorption_step, x0 = estimates, args = inp_vars, method = 'krylov')\n",
    "N_feed, N_waste = x['x']\n",
    "print(N_feed, N_waste)"
   ]
  },
  {
   "cell_type": "code",
   "execution_count": 12,
   "id": "221df84f-77a3-4bc1-9094-a57629a2e41a",
   "metadata": {},
   "outputs": [
    {
     "data": {
      "image/png": "[encoded data removed]",
      "text/plain": [
       "<Figure size 720x576 with 1 Axes>"
      ]
     },
     "metadata": {
      "needs_background": "light"
     },
     "output_type": "display_data"
    }
   ],
   "source": [
    "plt.figure(figsize=(10,8))\n",
    "#heating\n",
    "plt.plot(temperatures_heating, y_As_heating, color = 'orange')\n",
    "#cooling\n",
    "plt.plot(temperatures_cooling, y_As_cooling, color = 'blue')\n",
    "# adsorption step\n",
    "plt.plot([consts.T_C,consts.T_C], [y_As_cooling[-1],consts.y_A_feed], color = 'green')\n",
    "plt.text(335,0.7,'heating',fontsize=12)\n",
    "plt.text(305,0.08,'adsorption',fontsize=12)\n",
    "plt.text(380,0.25,'cooling',fontsize=12)\n",
    "plt.xlabel('T / K')\n",
    "plt.ylabel('Average CO2 molefrac')\n",
    "plt.xlim(299,430)\n",
    "plt.show()"
   ]
  },
  {
   "cell_type": "code",
   "execution_count": null,
   "id": "9efcad37-e44e-491a-b647-16b41dc1c246",
   "metadata": {},
   "outputs": [],
   "source": []
  },
  {
   "cell_type": "code",
   "execution_count": null,
   "id": "dd1e1b99-ff7f-4984-915c-68cef0ca932a",
   "metadata": {},
   "outputs": [],
   "source": []
  }
 ],
 "metadata": {
  "kernelspec": {
   "display_name": "Python 3 (ipykernel)",
   "language": "python",
   "name": "python3"
  },
  "language_info": {
   "codemirror_mode": {
    "name": "ipython",
    "version": 3
   },
   "file_extension": ".py",
   "mimetype": "text/x-python",
   "name": "python",
   "nbconvert_exporter": "python",
   "pygments_lexer": "ipython3",
   "version": "3.8.8"
  }
 },
 "nbformat": 4,
 "nbformat_minor": 5
}
