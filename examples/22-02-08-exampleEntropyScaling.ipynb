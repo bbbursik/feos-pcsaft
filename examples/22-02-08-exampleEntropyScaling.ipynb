{
 "cells": [
  {
   "cell_type": "code",
   "execution_count": 1,
   "id": "fab1158d-464e-4d7f-bbe7-08f322feac46",
   "metadata": {},
   "outputs": [
    {
     "data": {
      "text/plain": [
       "'/usr/ITT/bursik/promotion/entropy_scaling_AS/entropyScaling/venv_entropyscaling/lib/python3.8/site-packages/feos_pcsaft/feos_pcsaft.abi3.so'"
      ]
     },
     "execution_count": 1,
     "metadata": {},
     "output_type": "execute_result"
    }
   ],
   "source": [
    "import numpy as np\n",
    "from feos_pcsaft.si import *\n",
    "from feos_pcsaft import *\n",
    "from feos_pcsaft.eos import *\n",
    "from feos_pcsaft.dft import *\n",
    "import glob\n",
    "#import scipy as sp\n",
    "import numpy as np\n",
    "import matplotlib.pyplot as plt\n",
    "feos_pcsaft.__file__"
   ]
  },
  {
   "cell_type": "code",
   "execution_count": 2,
   "id": "2e8a0af4-47b4-4b2c-a538-b2bcc69bb7de",
   "metadata": {},
   "outputs": [],
   "source": [
    "components = ['propane']#, 'pentane']\n",
    "composition = np.array([0.3, 0.7]) *MOL\n",
    "temperature = 298.15* KELVIN\n",
    "pressure = 1 * BAR"
   ]
  },
  {
   "cell_type": "code",
   "execution_count": 5,
   "id": "3209b8b7-541b-465f-8690-d8b4b62b00ba",
   "metadata": {},
   "outputs": [],
   "source": [
    "params = PcSaftParameters.from_json(components, 'parameters/propane_with_entropy_scaling.json')\n",
    "func = PcSaftFunctional(params)\n",
    "eos = PcSaft(params)\n",
    "func_hs = (params)"
   ]
  },
  {
   "cell_type": "code",
   "execution_count": 6,
   "id": "b6224524-cd3d-4ed3-9300-16828e8f0a02",
   "metadata": {},
   "outputs": [
    {
     "data": {
      "text/markdown": [
       "||temperature|density|\n",
       "|-|-|-|\n",
       "|phase 1|298.15000 K|460.35608  mol/m³|\n",
       "|phase 2|298.15000 K|11.16768 kmol/m³|\n"
      ],
      "text/plain": [
       "phase 0: T = 298.15000 K, ρ = 460.35608  mol/m³\n",
       "phase 1: T = 298.15000 K, ρ = 11.16768 kmol/m³"
      ]
     },
     "execution_count": 6,
     "metadata": {},
     "output_type": "execute_result"
    }
   ],
   "source": [
    "if len(components) == 1:\n",
    "    t_crit = State.critical_point_pure(func)[0].temperature\n",
    "    vle = PhaseEquilibrium.pure_t(func, temperature)\n",
    "else:\n",
    "    t_crit = State.critical_point(func, composition).temperature\n",
    "    vle = PhaseEquilibrium.bubble_point_tx(func, temperature, composition/MOL)\n",
    "vle"
   ]
  },
  {
   "cell_type": "code",
   "execution_count": 9,
   "id": "e5e14eed-0f26-425b-b9eb-d164cfc75e33",
   "metadata": {},
   "outputs": [
    {
     "data": {
      "text/plain": [
       "<PcSaft at 0x7f6ee190c7e0>"
      ]
     },
     "execution_count": 9,
     "metadata": {},
     "output_type": "execute_result"
    }
   ],
   "source": [
    "eos"
   ]
  },
  {
   "cell_type": "code",
   "execution_count": 18,
   "id": "ab8d3c65-7fd2-4079-9fad-ba71e7574842",
   "metadata": {},
   "outputs": [],
   "source": [
    "state  =State(func, temperature=temperature, pressure=pressure/BAR*PASCAL)"
   ]
  },
  {
   "cell_type": "code",
   "execution_count": 19,
   "id": "1a02daca-c061-460f-a19c-7f48e54cab53",
   "metadata": {},
   "outputs": [
    {
     "ename": "AttributeError",
     "evalue": "'builtins.State' object has no attribute 'viscosity'",
     "output_type": "error",
     "traceback": [
      "\u001b[0;31m---------------------------------------------------------------------------\u001b[0m",
      "\u001b[0;31mAttributeError\u001b[0m                            Traceback (most recent call last)",
      "Input \u001b[0;32mIn [19]\u001b[0m, in \u001b[0;36m<module>\u001b[0;34m\u001b[0m\n\u001b[0;32m----> 1\u001b[0m \u001b[43mstate\u001b[49m\u001b[38;5;241;43m.\u001b[39;49m\u001b[43mviscosity\u001b[49m\n",
      "\u001b[0;31mAttributeError\u001b[0m: 'builtins.State' object has no attribute 'viscosity'"
     ]
    }
   ],
   "source": [
    "state.viscosity"
   ]
  },
  {
   "cell_type": "code",
   "execution_count": 15,
   "id": "0c100fa0-78c1-4326-9f0c-a7a7b260ff18",
   "metadata": {},
   "outputs": [],
   "source": [
    "solver = DFTSolver(output=False).picard_iteration(tol=1.0e-8, beta=0.01, max_iter=30, log=False).anderson_mixing(tol=1.0e-9,mmax=10)#\n",
    "interface = PlanarInterface.from_tanh(vle, 1024, 80 * ANGSTROM, t_crit)\n",
    "density_init = interface.density\n"
   ]
  },
  {
   "cell_type": "code",
   "execution_count": 16,
   "id": "33d2db3c-73cc-4cd6-870f-314fafe0bb7f",
   "metadata": {},
   "outputs": [
    {
     "data": {
      "text/plain": [
       "<PlanarInterface at 0x55a655877140>"
      ]
     },
     "execution_count": 16,
     "metadata": {},
     "output_type": "execute_result"
    }
   ],
   "source": [
    "interface.solve(solver, debug=False)   \n"
   ]
  },
  {
   "cell_type": "code",
   "execution_count": 17,
   "id": "c840e511-66e2-423a-8f4d-96dceed6a1c6",
   "metadata": {},
   "outputs": [
    {
     "data": {
      "text/plain": [
       "<matplotlib.legend.Legend at 0x7f9cad15cc70>"
      ]
     },
     "execution_count": 17,
     "metadata": {},
     "output_type": "execute_result"
    },
    {
     "data": {
      "image/png": "[encoded data removed]",
      "text/plain": [
       "<Figure size 1080x720 with 1 Axes>"
      ]
     },
     "metadata": {
      "needs_background": "light"
     },
     "output_type": "display_data"
    }
   ],
   "source": [
    "plt.figure(figsize=[15,10])\n",
    "plt.plot(interface.z/ANGSTROM, (interface.density/MOL*METER**3)[0], label='solved')\n",
    "plt.plot(interface.z/ANGSTROM, (density_init/MOL*METER**3)[0], label='initial')\n",
    "plt.legend()"
   ]
  },
  {
   "cell_type": "code",
   "execution_count": 18,
   "id": "c8e7bd92-b1f0-49d9-98b8-44115d86325a",
   "metadata": {},
   "outputs": [
    {
     "data": {
      "text/plain": [
       "[array([[ 5.37489785e-01,  5.37489781e-01,  5.37489774e-01, ...,\n",
       "          2.21569673e-02,  2.21569673e-02,  2.21569673e-02],\n",
       "        [ 3.19346307e-01,  3.19346304e-01,  3.19346300e-01, ...,\n",
       "          1.31644250e-02,  1.31644250e-02,  1.31644250e-02],\n",
       "        [-1.38590024e-08, -4.15871354e-08, -6.93456229e-08, ...,\n",
       "         -8.83390426e-11, -5.29546999e-11, -1.76434514e-11]]),\n",
       " array([[6.72524255e-03, 6.72524250e-03, 6.72524242e-03, ...,\n",
       "         2.77234833e-04, 2.77234833e-04, 2.77234833e-04],\n",
       "        [6.72522617e-03, 6.72522611e-03, 6.72522600e-03, ...,\n",
       "         2.77234855e-04, 2.77234855e-04, 2.77234855e-04],\n",
       "        [3.19345959e-01, 3.19345956e-01, 3.19345952e-01, ...,\n",
       "         1.31644255e-02, 1.31644255e-02, 1.31644255e-02]]),\n",
       " array([[0.00672522, 0.00672522, 0.00672522, ..., 0.00027723, 0.00027723,\n",
       "         0.00027723]])]"
      ]
     },
     "execution_count": 18,
     "metadata": {},
     "output_type": "execute_result"
    }
   ],
   "source": [
    "interface.weighted_densities"
   ]
  },
  {
   "cell_type": "code",
   "execution_count": 19,
   "id": "0ef679df-2aa7-4f71-96eb-c5005fd2e1da",
   "metadata": {},
   "outputs": [
    {
     "data": {
      "text/plain": [
       "[0.0000758500616485806, 0.00007585006060670333, 0.00007585005852124308, 0.00007585005538880033, 0.00007585005120430698, ..., 0.000008366591470125494, 0.000008366591510523316, 0.000008366591540755912, 0.000008366591560879138, 0.000008366591570930018] Pas"
      ]
     },
     "execution_count": 19,
     "metadata": {},
     "output_type": "execute_result"
    }
   ],
   "source": [
    "interface.viscosity_profile"
   ]
  },
  {
   "cell_type": "code",
   "execution_count": 30,
   "id": "8311c33c-bd42-449e-8529-5af1beef8035",
   "metadata": {},
   "outputs": [
    {
     "data": {
      "text/plain": [
       "[<matplotlib.lines.Line2D at 0x7f9cacdbd4f0>]"
      ]
     },
     "execution_count": 30,
     "metadata": {},
     "output_type": "execute_result"
    },
    {
     "data": {
      "image/png": "[encoded data removed]",
      "text/plain": [
       "<Figure size 1080x720 with 1 Axes>"
      ]
     },
     "metadata": {
      "needs_background": "light"
     },
     "output_type": "display_data"
    }
   ],
   "source": [
    "plt.figure(figsize=[15,10])\n",
    "\n",
    "plt.plot(interface.z/ANGSTROM, interface.viscosity_profile/PASCAL/SECOND)\n"
   ]
  },
  {
   "cell_type": "code",
   "execution_count": null,
   "id": "f2fe72a7-4f1f-4a64-80b5-08d9e4f81897",
   "metadata": {},
   "outputs": [],
   "source": []
  }
 ],
 "metadata": {
  "kernelspec": {
   "display_name": "entropy_scaling",
   "language": "python",
   "name": "entropy_scaling"
  },
  "language_info": {
   "codemirror_mode": {
    "name": "ipython",
    "version": 3
   },
   "file_extension": ".py",
   "mimetype": "text/x-python",
   "name": "python",
   "nbconvert_exporter": "python",
   "pygments_lexer": "ipython3",
   "version": "3.8.8"
  }
 },
 "nbformat": 4,
 "nbformat_minor": 5
}
