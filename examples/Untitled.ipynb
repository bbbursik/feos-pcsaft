{
 "cells": [
  {
   "cell_type": "code",
   "execution_count": 4,
   "id": "847c1112-7a82-48b9-a9f3-1bbb8d790cbe",
   "metadata": {},
   "outputs": [],
   "source": [
    "from feos_pcsaft import *\n",
    "from feos_pcsaft.eos import *\n",
    "from feos_pcsaft.dft import *\n",
    "#from feos_dft import *"
   ]
  },
  {
   "cell_type": "code",
   "execution_count": 5,
   "id": "0bc7ef0b-3514-4345-827b-91b663e198cf",
   "metadata": {},
   "outputs": [
    {
     "data": {
      "text/plain": [
       "'/usr/ITT/bursik/promotion/code/feos/feos-pcsaft/venv/lib/python3.8/site-packages/feos_pcsaft/feos_pcsaft.abi3.so'"
      ]
     },
     "execution_count": 5,
     "metadata": {},
     "output_type": "execute_result"
    }
   ],
   "source": [
    "feos_pcsaft.__file__"
   ]
  },
  {
   "cell_type": "code",
   "execution_count": null,
   "id": "7889680c-ee3a-45a6-a75d-f16e3df686bc",
   "metadata": {},
   "outputs": [],
   "source": []
  }
 ],
 "metadata": {
  "kernelspec": {
   "display_name": "feos-pcsaft",
   "language": "python",
   "name": "feos-pcsaft"
  },
  "language_info": {
   "codemirror_mode": {
    "name": "ipython",
    "version": 3
   },
   "file_extension": ".py",
   "mimetype": "text/x-python",
   "name": "python",
   "nbconvert_exporter": "python",
   "pygments_lexer": "ipython3",
   "version": "3.8.8"
  }
 },
 "nbformat": 4,
 "nbformat_minor": 5
}
