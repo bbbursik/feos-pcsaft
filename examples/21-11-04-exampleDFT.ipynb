{
 "cells": [
  {
   "cell_type": "code",
   "execution_count": 1,
   "metadata": {},
   "outputs": [],
   "source": [
    "import numpy as np\n",
    "from feos_pcsaft.si import *\n",
    "from feos_pcsaft import *\n",
    "from feos_pcsaft.eos import *\n",
    "from feos_pcsaft.dft import *\n",
    "\n",
    "\n",
    "import matplotlib.pyplot as plt"
   ]
  },
  {
   "cell_type": "code",
   "execution_count": 2,
   "metadata": {},
   "outputs": [
    {
     "data": {
      "text/plain": [
       "'/usr/ITT/bursik/promotion/code/feos/feos-pcsaft/venv/lib/python3.8/site-packages/feos_pcsaft/feos_pcsaft.abi3.so'"
      ]
     },
     "execution_count": 2,
     "metadata": {},
     "output_type": "execute_result"
    }
   ],
   "source": [
    "feos_pcsaft.__file__"
   ]
  },
  {
   "cell_type": "markdown",
   "metadata": {},
   "source": [
    "# Local DFT Implementation"
   ]
  },
  {
   "cell_type": "code",
   "execution_count": 3,
   "metadata": {},
   "outputs": [],
   "source": [
    "components = ['hexane']\n",
    "temperature = 298.15* KELVIN\n",
    "pressure = 1 * BAR"
   ]
  },
  {
   "cell_type": "code",
   "execution_count": 4,
   "metadata": {},
   "outputs": [],
   "source": [
    "params = PcSaftParameters.from_json(components, '20191105_pure_parameters.json')\n",
    "func = PcSaftFunctional(params)\n",
    "func_hs = (params)"
   ]
  },
  {
   "cell_type": "code",
   "execution_count": 15,
   "metadata": {},
   "outputs": [],
   "source": [
    "vle = PhaseEquilibrium.pure_t(func, temperature)\n",
    "t_crit = State.critical_point_pure(func)[0].temperature"
   ]
  },
  {
   "cell_type": "code",
   "execution_count": 16,
   "metadata": {},
   "outputs": [],
   "source": [
    "solver = DFTSolver().anderson_mixing(tol=1.0e-9,mmax=10)#.picard_iteration(tol=1.0e-5) # just write after one another\n",
    "interface = PlanarInterface.from_tanh(vle, 1024, 50 * ANGSTROM, t_crit)"
   ]
  },
  {
   "cell_type": "code",
   "execution_count": 41,
   "metadata": {},
   "outputs": [
    {
     "data": {
      "text/plain": [
       "array([[ 4.25951681,  4.25951682,  4.25951683, ..., 25.11082228,\n",
       "        25.11082207, 25.11082196]])"
      ]
     },
     "execution_count": 41,
     "metadata": {},
     "output_type": "execute_result"
    }
   ],
   "source": [
    "interface.functional_derivative"
   ]
  },
  {
   "cell_type": "code",
   "execution_count": 19,
   "metadata": {},
   "outputs": [
    {
     "data": {
      "text/plain": [
       "[<matplotlib.lines.Line2D at 0x7f94e36abac0>]"
      ]
     },
     "execution_count": 19,
     "metadata": {},
     "output_type": "execute_result"
    },
    {
     "data": {
      "image/png": "[encoded data removed]",
      "text/plain": [
       "<Figure size 432x288 with 1 Axes>"
      ]
     },
     "metadata": {
      "needs_background": "light"
     },
     "output_type": "display_data"
    }
   ],
   "source": [
    "# plot initial density profile\n",
    "plt.plot(interface.z / ANGSTROM, (interface.density / MOL * METER**3)[0,:])\n",
    "#plt.plot(interface.z / ANGSTROM, (interface.density / MOL * METER**3)[1,:])"
   ]
  },
  {
   "cell_type": "code",
   "execution_count": 38,
   "metadata": {},
   "outputs": [
    {
     "name": "stdout",
     "output_type": "stream",
     "text": [
      "3\n",
      "(3, 1024)\n"
     ]
    }
   ],
   "source": [
    "wd = interface.weighted_densities\n",
    "#plt.plot(interface.z / ANGSTROM, (wd / MOL * METER**3)[0,:])\n",
    "print(len(wd))\n",
    "print(wd[1].shape)"
   ]
  },
  {
   "cell_type": "markdown",
   "metadata": {},
   "source": [
    "## DFT Example"
   ]
  },
  {
   "cell_type": "code",
   "execution_count": 8,
   "metadata": {},
   "outputs": [],
   "source": [
    "## Planar Interface "
   ]
  },
  {
   "cell_type": "code",
   "execution_count": 9,
   "metadata": {},
   "outputs": [],
   "source": [
    "# system specification\n",
    "components = ['hexane', 'octane'] # ['hexane'] # \n",
    "x = 0.3\n",
    "composition = np.array([x, 1-x])\n",
    "temperature = 298.15* KELVIN\n",
    "pressure = 1 * BAR"
   ]
  },
  {
   "cell_type": "code",
   "execution_count": 10,
   "metadata": {},
   "outputs": [],
   "source": [
    "# Read Parameters\n",
    "params = PcSaftParameters.from_json(components, '20191105_pure_parameters.json')"
   ]
  },
  {
   "cell_type": "code",
   "execution_count": 11,
   "metadata": {},
   "outputs": [],
   "source": [
    "# Create Functional based on parameters\n",
    "func = PcSaftFunctional(params)"
   ]
  },
  {
   "cell_type": "code",
   "execution_count": 12,
   "metadata": {},
   "outputs": [
    {
     "data": {
      "text/markdown": [
       "||temperature|density|molefracs|\n",
       "|-|-|-|-|\n",
       "|phase 1|298.15 K|2.964357865432749  mol/m³|[0.81911, 0.18089]|\n",
       "|phase 2|298.15 K|6.446506873296946 kmol/m³|[0.30000, 0.70000]|\n"
      ],
      "text/plain": [
       "phase 0: T = 298.15 K, ρ = 2.964357865432749  mol/m³, x = [0.81911, 0.18089]\n",
       "phase 1: T = 298.15 K, ρ = 6.446506873296946 kmol/m³, x = [0.30000, 0.70000]"
      ]
     },
     "execution_count": 12,
     "metadata": {},
     "output_type": "execute_result"
    }
   ],
   "source": [
    "# calculate phase equilibrium\n",
    "#vle = PhaseEquilibrium.pure_t(func, temperature)\n",
    "vle = PhaseEquilibrium.bubble_point_tx(func, temperature, composition)\n",
    "vle\n"
   ]
  },
  {
   "cell_type": "code",
   "execution_count": 13,
   "metadata": {},
   "outputs": [
    {
     "data": {
      "text/latex": [
       "$568.08\\,\\mathrm{K}$"
      ],
      "text/plain": [
       "568.0769398960161 K"
      ]
     },
     "execution_count": 13,
     "metadata": {},
     "output_type": "execute_result"
    }
   ],
   "source": [
    "# calculate critical point (needed for initializiation of tanh profile)\n",
    "#t_crit = State.critical_point_pure(func)[0].temperature\n",
    "t_crit = State.critical_point(func, 1 * MOL *composition).temperature\n",
    "t_crit"
   ]
  },
  {
   "cell_type": "code",
   "execution_count": 14,
   "metadata": {},
   "outputs": [],
   "source": [
    "# intialize solver and interface density profile\n",
    "solver = DFTSolver().anderson_mixing(tol=1.0e-9,mmax=10)#.picard_iteration(tol=1.0e-5) # just write after one another\n",
    "interface = PlanarInterface.from_tanh(vle, 1024, 50 * ANGSTROM, t_crit)"
   ]
  },
  {
   "cell_type": "code",
   "execution_count": 15,
   "metadata": {},
   "outputs": [
    {
     "data": {
      "text/plain": [
       "[<matplotlib.lines.Line2D at 0x7fa978a2fdc0>]"
      ]
     },
     "execution_count": 15,
     "metadata": {},
     "output_type": "execute_result"
    },
    {
     "data": {
      "image/png": "[encoded data removed]",
      "text/plain": [
       "<Figure size 432x288 with 1 Axes>"
      ]
     },
     "metadata": {
      "needs_background": "light"
     },
     "output_type": "display_data"
    }
   ],
   "source": [
    "# plot initial density profile\n",
    "plt.plot(interface.z / ANGSTROM, (interface.density / MOL * METER**3)[0,:])\n",
    "plt.plot(interface.z / ANGSTROM, (interface.density / MOL * METER**3)[1,:])"
   ]
  },
  {
   "cell_type": "code",
   "execution_count": 16,
   "metadata": {},
   "outputs": [
    {
     "data": {
      "text/plain": [
       "<PlanarInterface at 0x5616e270e870>"
      ]
     },
     "execution_count": 16,
     "metadata": {},
     "output_type": "execute_result"
    }
   ],
   "source": [
    "# solve DFT\n",
    "interface.solve(solver)"
   ]
  },
  {
   "cell_type": "code",
   "execution_count": 17,
   "metadata": {},
   "outputs": [
    {
     "data": {
      "text/plain": [
       "[<matplotlib.lines.Line2D at 0x7fa976931a00>]"
      ]
     },
     "execution_count": 17,
     "metadata": {},
     "output_type": "execute_result"
    },
    {
     "data": {
      "image/png": "[encoded data removed]",
      "text/plain": [
       "<Figure size 432x288 with 1 Axes>"
      ]
     },
     "metadata": {
      "needs_background": "light"
     },
     "output_type": "display_data"
    }
   ],
   "source": [
    "# plot final density profile\n",
    "plt.plot(interface.z / ANGSTROM, (interface.density / MOL * METER**3)[0,:])\n",
    "plt.plot(interface.z / ANGSTROM, (interface.density / MOL * METER**3)[1,:])"
   ]
  },
  {
   "cell_type": "code",
   "execution_count": 18,
   "metadata": {},
   "outputs": [
    {
     "data": {
      "text/latex": [
       "$20.139\\,\\mathrm{\\frac{mN}{m}}$"
      ],
      "text/plain": [
       "20.139265293913347 mN/m"
      ]
     },
     "execution_count": 18,
     "metadata": {},
     "output_type": "execute_result"
    }
   ],
   "source": [
    "# print surface tension\n",
    "interface.surface_tension"
   ]
  },
  {
   "cell_type": "code",
   "execution_count": 19,
   "metadata": {},
   "outputs": [
    {
     "data": {
      "text/latex": [
       "$2.5\\,\\mathrm{nm}$"
      ],
      "text/plain": [
       "2.4999964243534305 nm"
      ]
     },
     "execution_count": 19,
     "metadata": {},
     "output_type": "execute_result"
    }
   ],
   "source": [
    "interface.equimolar_radius"
   ]
  },
  {
   "cell_type": "markdown",
   "metadata": {},
   "source": [
    "# Adsorption at a wall in 1D"
   ]
  },
  {
   "cell_type": "code",
   "execution_count": 20,
   "metadata": {},
   "outputs": [],
   "source": [
    "# system specification\n",
    "components =  ['butane']\n",
    "composition = np.array([x, 1-x])\n",
    "temperature = 250.15* KELVIN\n",
    "pressure = 1 * BAR"
   ]
  },
  {
   "cell_type": "code",
   "execution_count": 21,
   "metadata": {},
   "outputs": [],
   "source": [
    "# Read Parameters\n",
    "params = PcSaftParameters.from_json(components, '20191105_pure_parameters.json')"
   ]
  },
  {
   "cell_type": "code",
   "execution_count": 22,
   "metadata": {},
   "outputs": [],
   "source": [
    "# Create Functional based on parameters\n",
    "func = PcSaftFunctional(params)"
   ]
  },
  {
   "cell_type": "code",
   "execution_count": 23,
   "metadata": {},
   "outputs": [],
   "source": [
    "# Create State \n",
    "state = State(func, temperature, pressure=pressure)"
   ]
  },
  {
   "cell_type": "code",
   "execution_count": 24,
   "metadata": {},
   "outputs": [],
   "source": [
    "# create potential \n",
    "#potential  = ExternalPotential.LJ93(3.0, 250.0, 0.08)\n",
    "potential  = ExternalPotential.HardWall(3.1)\n"
   ]
  },
  {
   "cell_type": "code",
   "execution_count": 28,
   "metadata": {},
   "outputs": [],
   "source": [
    "# Create wall as a cartesian (slit) pore with large width --> bulk in the center\n",
    "wall_profile = Pore1D(func, Geometry.Cartesian, pore_size= 50*ANGSTROM, potential = potential).initialize(state)"
   ]
  },
  {
   "cell_type": "code",
   "execution_count": 29,
   "metadata": {},
   "outputs": [],
   "source": [
    "# set solver\n",
    "solver = DFTSolver(output=True).picard_iteration(tol=1.0e-6, max_iter=1000).anderson_mixing(tol=1.0e-8, max_iter=500, mmax=10)"
   ]
  },
  {
   "cell_type": "code",
   "execution_count": null,
   "metadata": {},
   "outputs": [],
   "source": [
    "# solve DFT for wall \n",
    "wall_profile.solve(solver)"
   ]
  },
  {
   "cell_type": "code",
   "execution_count": null,
   "metadata": {},
   "outputs": [],
   "source": [
    "# plot resulting density profile\n",
    "plt.plot(wall_profile.z/ANGSTROM, (wall_profile.density/MOL*METER**3)[0,:])"
   ]
  },
  {
   "cell_type": "code",
   "execution_count": null,
   "metadata": {},
   "outputs": [],
   "source": [
    "wall_profile.density/MOL*METER**3"
   ]
  },
  {
   "cell_type": "code",
   "execution_count": null,
   "metadata": {},
   "outputs": [],
   "source": []
  }
 ],
 "metadata": {
  "kernelspec": {
   "display_name": "feos-pcsaft",
   "language": "python",
   "name": "feos-pcsaft"
  },
  "language_info": {
   "codemirror_mode": {
    "name": "ipython",
    "version": 3
   },
   "file_extension": ".py",
   "mimetype": "text/x-python",
   "name": "python",
   "nbconvert_exporter": "python",
   "pygments_lexer": "ipython3",
   "version": "3.8.8"
  }
 },
 "nbformat": 4,
 "nbformat_minor": 4
}
